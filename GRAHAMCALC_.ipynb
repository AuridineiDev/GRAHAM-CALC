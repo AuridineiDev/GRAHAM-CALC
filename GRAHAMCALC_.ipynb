{
  "nbformat": 4,
  "nbformat_minor": 0,
  "metadata": {
    "colab": {
      "provenance": [],
      "authorship_tag": "ABX9TyP/qUlTrspxUUwTTrO03Oji",
      "include_colab_link": true
    },
    "kernelspec": {
      "name": "python3",
      "display_name": "Python 3"
    },
    "language_info": {
      "name": "python"
    }
  },
  "cells": [
    {
      "cell_type": "markdown",
      "metadata": {
        "id": "view-in-github",
        "colab_type": "text"
      },
      "source": [
        "<a href=\"https://colab.research.google.com/github/AuridineiDev/GRAHAM-CALC/blob/main/GRAHAMCALC_.ipynb\" target=\"_parent\"><img src=\"https://colab.research.google.com/assets/colab-badge.svg\" alt=\"Open In Colab\"/></a>"
      ]
    },
    {
      "cell_type": "code",
      "execution_count": null,
      "metadata": {
        "colab": {
          "base_uri": "https://localhost:8080/"
        },
        "id": "Ngq0ORnkykv5",
        "outputId": "f182c7a7-5c97-4579-e9c1-da1d6e84bafb"
      },
      "outputs": [
        {
          "output_type": "stream",
          "name": "stdout",
          "text": [
            "\n",
            "Escolha uma opção:\n",
            "1 - Calcular Valor Intrínseco (Fórmula de Graham)\n",
            "2 - Calcular Projeção de Dividendos\n",
            "0 - Sair\n",
            "Digite a sua escolha: 0\n",
            "Saindo do programa. Até logo!\n"
          ]
        }
      ],
      "source": [
        "# Criado e registrado por Auridinei Abreu Lima, programador e investidor com ajuda de IA, todos os direitos reservados a ele.\n",
        "#_______________________________________________________________________________\n",
        "\n",
        "def calcular_valor_intrinseco():\n",
        "    print(\"Cálculo do Valor Intrínseco usando a Fórmula de Graham\\n\")\n",
        "\n",
        "    try:\n",
        "        # Solicita o método de obtenção do EPS\n",
        "        metodo = input(\"Você quer fornecer o EPS diretamente ou calcular com base no lucro líquido ou P/L? (digite 'direto', 'lucro' ou 'pl'): \").strip().lower()\n",
        "\n",
        "        if metodo == 'direto':\n",
        "            eps = float(input(\"Digite o EPS (Lucro por Ação): \"))\n",
        "        elif metodo == 'lucro':\n",
        "            lucro_liquido = float(input(\"Digite o lucro líquido da empresa (em reais): \"))\n",
        "            numero_acoes = float(input(\"Digite o número total de ações emitidas: \"))\n",
        "            eps = lucro_liquido / numero_acoes\n",
        "            print(f\"\\nEPS calculado com base no lucro líquido: R$ {eps:.2f}\")\n",
        "        elif metodo == 'pl':\n",
        "            preco_acao = float(input(\"Digite o preço da ação (em reais): \"))\n",
        "            pl = float(input(\"Digite o P/L (Preço/Lucro) da empresa: \"))\n",
        "            eps = preco_acao / pl\n",
        "            print(f\"\\nEPS calculado com base no P/L: R$ {eps:.2f}\")\n",
        "        else:\n",
        "            print(\"Opção inválida. Por favor, escolha entre 'direto', 'lucro' ou 'pl'.\")\n",
        "            return\n",
        "\n",
        "        # Solicita outras informações para a Fórmula de Graham\n",
        "        taxa_crescimento = float(input(\"Digite a taxa de crescimento esperada (em %): \"))\n",
        "        taxa_juros_atual = float(input(\"Digite a taxa de juros atual (em %): \"))\n",
        "\n",
        "        # Fórmula Revisada de Graham\n",
        "        valor_intrinseco = (eps * (8.5 + 2 * taxa_crescimento) * 4.4) / taxa_juros_atual\n",
        "        print(f\"\\nO valor intrínseco calculado da ação é: R$ {valor_intrinseco:.2f}\")\n",
        "\n",
        "        return valor_intrinseco\n",
        "\n",
        "    except ValueError:\n",
        "        print(\"Erro: Por favor, insira valores numéricos válidos.\")\n",
        "        return None\n",
        "\n",
        "\n",
        "def calcular_dividendos():\n",
        "    print(\"\\nProjeção de Dividendos\\n\")\n",
        "\n",
        "    try:\n",
        "        # Solicita os dados necessários\n",
        "        preco_acao = float(input(\"Digite o preço atual da ação (em reais): \"))\n",
        "        dividend_yield = float(input(\"Digite o dividend yield (rendimento por dividendo) atual da ação (em %): \"))\n",
        "        anos = int(input(\"Digite o número de anos para a projeção: \"))\n",
        "        crescimento_dividendo = float(input(\"Digite a taxa de crescimento dos dividendos anual (em %): \"))\n",
        "\n",
        "        # Calcula os dividendos ao longo dos anos\n",
        "        dividendos = []\n",
        "        dividendos.append((dividend_yield / 100) * preco_acao)\n",
        "        for i in range(1, anos):\n",
        "            dividendos.append(dividendos[-1] * (1 + crescimento_dividendo / 100))\n",
        "\n",
        "        # Exibe a projeção\n",
        "        print(\"\\nProjeção de Dividendos ao Longo dos Anos:\")\n",
        "        for i, d in enumerate(dividendos, start=1):\n",
        "            print(f\"Ano {i}: R$ {d:.2f}\")\n",
        "\n",
        "        # Calcula o retorno total projetado\n",
        "        retorno_total = sum(dividendos)\n",
        "        print(f\"\\nRetorno total em dividendos após {anos} anos: R$ {retorno_total:.2f}\")\n",
        "\n",
        "    except ValueError:\n",
        "        print(\"Erro: Por favor, insira valores numéricos válidos.\")\n",
        "\n",
        "\n",
        "# Programa principal unificado\n",
        "def programa_unificado():\n",
        "    while True:\n",
        "        print(\"\\nEscolha uma opção:\")\n",
        "        print(\"1 - Calcular Valor Intrínseco (Fórmula de Graham)\")\n",
        "        print(\"2 - Calcular Projeção de Dividendos\")\n",
        "        print(\"0 - Sair\")\n",
        "\n",
        "        opcao = input(\"Digite a sua escolha: \").strip()\n",
        "\n",
        "        if opcao == '1':\n",
        "            calcular_valor_intrinseco()\n",
        "        elif opcao == '2':\n",
        "            calcular_dividendos()\n",
        "        elif opcao == '0':\n",
        "            print(\"Saindo do programa. Até logo!\")\n",
        "            break\n",
        "        else:\n",
        "            print(\"Opção inválida. Tente novamente.\")\n",
        "\n",
        "# Executar o programa unificado\n",
        "programa_unificado()\n"
      ]
    }
  ]
}